{
 "cells": [
  {
   "cell_type": "markdown",
   "metadata": {},
   "source": [
    "[Instructions](https://automatetheboringstuff.com/2e/chapter7/) See the end of the page"
   ]
  },
  {
   "cell_type": "code",
   "execution_count": 1,
   "metadata": {},
   "outputs": [
    {
     "name": "stdout",
     "output_type": "stream",
     "text": [
      "Enter a date in the following format: DD/MM/YYYY\n",
      "30/05/2021\n",
      "This is a valid date: 30/05/2021\n",
      "The year 2021 is NOT a leap year.\n"
     ]
    }
   ],
   "source": [
    "# Practice : Valid Date detection\n",
    "\n",
    "import re\n",
    "\n",
    "# DD/MM/YYYY\n",
    "# Days range 01-31\n",
    "# Months range 01-12\n",
    "# Years range 1000-2999\n",
    "\n",
    "#Main loop:\n",
    "\n",
    "while True:\n",
    "    \n",
    "    print('Enter a date in the following format: DD/MM/YYYY')\n",
    "    date = str(input())\n",
    "\n",
    "    # Regex for detecting dates\n",
    "    dateRegex = re.compile(r'''\n",
    "    [0-3][0-9]/                # Day\n",
    "    [0-1][0-9]/                # Month\n",
    "    [1-2][0-9]{3}              # Year\n",
    "    ''',re.VERBOSE)\n",
    "\n",
    "    try:\n",
    "        match = dateRegex.findall(date)\n",
    "\n",
    "        # Store month day and year in variables\n",
    "\n",
    "        day = int(match[0][0:2])\n",
    "\n",
    "        month = int(match[0][3:5])\n",
    "\n",
    "        year = int(match[0][6:10])\n",
    "\n",
    "        # Valid date detection\n",
    "\n",
    "        # Define leap or non-leap year\n",
    "\n",
    "        if (year % 4 == 0) and (not year % 100 == 0) or (year % 400 == 0):\n",
    "            leap = True\n",
    "        else:\n",
    "            leap = False\n",
    "\n",
    "        # Define months  \n",
    "        January,February,March,April,May,June,July,August,September,October,November,December = range(1,13)\n",
    "\n",
    "        # Make sure day or month do not equal 0\n",
    "\n",
    "        if day == 0:\n",
    "            print('Invalid day: There is no 0th day in the month')\n",
    "\n",
    "        elif month == 0:\n",
    "            print('Invalid month: There is no 0th month in the year')\n",
    "\n",
    "        # Set rules for 30 day months\n",
    "\n",
    "        elif (month == April or month == June or month == September or month == November) and day > 30:\n",
    "            print('Invalid day: There are only 30 days in this month')\n",
    "\n",
    "        # Set rules for 31 day months    \n",
    "        elif (month == January or month == March or month == May or month == July or month == August or month == October or month == December) and day > 31:\n",
    "            print('Invalid day: There are only 31 days in this month')\n",
    "\n",
    "        # Set rules for February\n",
    "        elif (month == February) and (leap == False) and day > 28:\n",
    "            print('Invalid day: There are only 28 days in this month on non-leap years')\n",
    "\n",
    "        elif (month == February) and (leap == True) and day > 29:\n",
    "            print('Invalid day: There are only 29 days in this month on leap years')\n",
    "\n",
    "        elif month > 12:\n",
    "            print('Invalid month: There are only 12 months in a year')\n",
    "\n",
    "        else:\n",
    "            print('This is a valid date: ' + match[0])\n",
    "            if leap == True:\n",
    "                print('The year ' + str(year) + ' IS a leap year.')\n",
    "            else:\n",
    "                print('The year ' + str(year) + ' is NOT a leap year.')\n",
    "            break\n",
    "    except:\n",
    "        print('Invalid date format, please try again.')"
   ]
  },
  {
   "cell_type": "code",
   "execution_count": null,
   "metadata": {},
   "outputs": [],
   "source": []
  }
 ],
 "metadata": {
  "kernelspec": {
   "display_name": "ibm_project",
   "language": "python",
   "name": "ibm_project"
  },
  "language_info": {
   "codemirror_mode": {
    "name": "ipython",
    "version": 3
   },
   "file_extension": ".py",
   "mimetype": "text/x-python",
   "name": "python",
   "nbconvert_exporter": "python",
   "pygments_lexer": "ipython3",
   "version": "3.7.9"
  }
 },
 "nbformat": 4,
 "nbformat_minor": 4
}
